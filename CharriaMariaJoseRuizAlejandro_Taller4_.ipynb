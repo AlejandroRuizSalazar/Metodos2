{
  "cells": [
    {
      "cell_type": "markdown",
      "metadata": {
        "id": "view-in-github",
        "colab_type": "text"
      },
      "source": [
        "<a href=\"https://colab.research.google.com/github/AlejandroRuizSalazar/Metodos2/blob/main/CharriaMariaJoseRuizAlejandro_Taller4_.ipynb\" target=\"_parent\"><img src=\"https://colab.research.google.com/assets/colab-badge.svg\" alt=\"Open In Colab\"/></a>"
      ]
    },
    {
      "cell_type": "markdown",
      "metadata": {
        "id": "0Z8Dn_z6Mb9b"
      },
      "source": [
        "# Taller 4\n",
        "\n",
        "## Métodos Computacionales 2\n",
        "\n",
        "Instrucciones: Suba el jupyter notebook **.ipynb** en la actividad de bloque neon. El archivo debe ser nombrado ApellidoNombreApellidoNombre_Taller4.ipynb, con su primer Apellido y Nombre. **El archivo debe poder correr en el binder del curso o en google colab**\n",
        "\n",
        "Si un ejercicio demora **más de 10 segundos** en correr se considerará **incorrecto**.\n",
        "\n",
        "La simulación no debería demorar más de **60 segundos** en el github del curso o en google colab.\n",
        "\n",
        "No modifique el cuaderno, ni los modos de lectura de los archivos.\n",
        "\n",
        "**Entrega: Sábado 30 de Septiembre 11:59 pm**"
      ]
    },
    {
      "cell_type": "markdown",
      "metadata": {
        "id": "VvtNBbxJ0n7a"
      },
      "source": [
        "## Librerias"
      ]
    },
    {
      "cell_type": "code",
      "execution_count": null,
      "metadata": {
        "id": "mmgcGeXk0pPA"
      },
      "outputs": [],
      "source": [
        "import time\n",
        "import numpy as np\n",
        "from IPython.display import HTML\n",
        "from base64 import b64encode\n",
        "\n",
        "import matplotlib.pyplot as plt\n",
        "from matplotlib import animation\n",
        "plt.style.use('dark_background')"
      ]
    },
    {
      "cell_type": "code",
      "execution_count": null,
      "metadata": {
        "id": "0dwmjZUoDvLX"
      },
      "outputs": [],
      "source": [
        "from matplotlib import rc\n",
        "rc(\"animation\", html = \"jshtml\")"
      ]
    },
    {
      "cell_type": "markdown",
      "metadata": {
        "id": "iBApbCINk-Rx"
      },
      "source": [
        "## Problema 1 (2/5) puntos\n",
        "\n",
        "Dada la ecuación de onda bidimensional,\n",
        "\n",
        "$$ \\frac{\\partial^2 u}{\\partial t^2} =\n",
        "{c^2} \\left(\\frac{\\partial^2 u}{\\partial x^2} + \\frac{\\partial^2 u}{\\partial y^2} \\right)$$\n",
        "\n",
        "Demuestre que la solución de la ecuación de onda bidimensional con diferencias finitas para extremos fijos está dada por,\n",
        "\n",
        "$$\n",
        "u^1_{i, j} = \\frac{a}{2}u^0_{i, j} + V^0_{i, j}\\Delta t + \\frac{r_x}{2}(u^0_{i+1, j} + u^0_{i-1, j}) + \\frac{r_y}{2}(u^0_{i, j+1}+u^0_{i, j-1})\n",
        "$$\n",
        "\n",
        "$$\n",
        "u^{n+1}_{i, j} = au^n_{i, j} - u_{i, j}^{n-1} + r_x(u^n_{i+1, j} + u^n_{i-1, j}) + r_y(u^n_{i, j+1}+u^n_{i, j-1})\n",
        "$$\n",
        "\n",
        "Donde,\n",
        "\n",
        "$$\n",
        "r_x = (\\Delta t)^2c^2/(\\Delta x)^2, \\quad r_y = (\\Delta t)^2c^2/(\\Delta y)^2\n",
        "$$\n",
        "\n",
        "$$\n",
        "a = 2(1 - r_x - r_y)\n",
        "$$\n",
        "\n",
        "Su demonstración aquí,\n",
        "\n",
        "Vea que la ecuación de una onda bidimensional con extremos fijos es $$ \\frac{\\partial^2 u}{\\partial t^2} = c^2 \\nabla^2 u$$ $$\\Rightarrow \\frac{\\partial^2 x}{\\partial t^2} = c^2 \\frac{\\partial^2 u}{\\partial x^2} + c^2 \\frac{\\partial^2 u}{\\partial y^2}.$$\n",
        "Por lo tanto, las diferencias finitas se verán de la siguiente manera: $$\\frac{u_{i,j}^{n+1}-2u_{i,j}^{n}+u_{i,j}^{n-1}}{\\left ( \\Delta t \\right )^2} = c^2 \\left ( \\frac{u_{i+1,j}^{n}-2u_{i,j}^{n}+u_{i-1,j}^{n}}{\\left ( \\Delta x \\right )^2}  \\right ) +c^2 \\left ( \\frac{u_{i,j+1}^{n}-2u_{i,j}^{n}+u_{i,j-1}^{n}}{\\left ( \\Delta y \\right )^2}  \\right ),$$\n",
        "donde $n$ se refiere a la parte temporal de $u$, $i$ se refiere a la parte espacial en la coordenada de $x$ y $j$ se refiere a la parte espacial en la coordenada $y$.\n",
        "\n",
        "Ahora, tome $r_x \\equiv \\frac{\\left ( \\Delta t \\right )^2 c^2}{\\left ( \\Delta x \\right )^2}$ y $r_y \\equiv \\frac{\\left ( \\Delta t \\right )^2 c^2}{\\left ( \\Delta y \\right )^2}$, entonces:  $$u_{i,j}^{n+1} =  2u_{i,j}^{n}-u_{i,j}^{n-1}+r_xu_{i+1,j}^{n}-2r_xu_{i,j}^{n}+r_xu_{i-1,j}^{n}+r_yu_{i,j+1}^{n}-2r_yu_{i,j}^{n}+r_yu_{i,j-1}^{n}.$$\n",
        "Tome $a \\equiv 2(1-r_x-r_y)$, entonces: $$u_{i,j}^{n+1} =  au_{i,j}^{n}-u_{i,j}^{n-1}+r_xu_{i+1,j}^{n}+r_xu_{i-1,j}^{n}+r_yu_{i,j+1}^{n}+r_yu_{i,j-1}^{n}$$\n",
        "\\begin{align}\n",
        "\\therefore u_{i,j}^{n+1} &=  au_{i,j}^{n}-u_{i,j}^{n-1}+r_x\\left (u_{i+1,j}^{n}+u_{i-1,j}^{n}\\right )+r_y\\left (  u_{i,j+1}^{n}+u_{i,j-1}^{n}\\right ). \\tag{1}\n",
        "\\end{align}\n",
        "Ahora, vea que $\\frac{\\partial u}{\\partial t} \\big|_{t=0} = V_0(x,y)$ (esto por las condiciones de frontera). Con ello, las diferencias finitas de esta derivada parcial se verán de la siguiente forma: $$\\frac{u_{i,j}^{1}-u_{i,j}^{-1}}{2\\Delta t} = V_{i,j}^{0}$$\n",
        "\\begin{align}\n",
        "\\Rightarrow -u_{i,j}^{-1} &= 2V_{i,j}^{0} \\Delta t -u_{i,j}^{1}. \\tag{2}\n",
        "\\end{align}\n",
        "\n",
        "Para $n=0$ en $(1)$, se obtiene que\n",
        "\\begin{align}\n",
        "    u_{i,j}^{1} &= au_{i,j}^{0}-u_{i,j}^{-1}+r_x\\left (u_{i+1,j}^{0}+u_{i-1,j}^{0}\\right )+r_y\\left (  u_{i,j+1}^{0}+u_{i,j-1}^{0}\\right ). \\tag{3}\n",
        "\\end{align}\n",
        "Reemplazando $(2)$ en $(3)$, $$ u_{i,j}^{1} = au_{i,j}^{0}+ 2V_{i,j}^{0} \\Delta t -u_{i,j}^{1}+r_x\\left (u_{i+1,j}^{0}+u_{i-1,j}^{0}\\right )+r_y\\left (  u_{i,j+1}^{0}+u_{i,j-1}^{0}\\right )$$ $$\\Rightarrow 2u_{i,j}^{1} = au_{i,j}^{0}+ 2V_{i,j}^{0} \\Delta t +r_x\\left (u_{i+1,j}^{0}+u_{i-1,j}^{0}\\right )+r_y\\left (  u_{i,j+1}^{0}+u_{i,j-1}^{0}\\right )$$ $$\\therefore u_{i,j}^{1} = \\frac{a}{2}u_{i,j}^{0}+ V_{i,j}^{0} \\Delta t +\\frac{r_x}{2}\\left (u_{i+1,j}^{0}+u_{i-1,j}^{0}\\right )+\\frac{r_y}{2}\\left (  u_{i,j+1}^{0}+u_{i,j-1}^{0}\\right ).$$\n",
        "Finalmente, queda demostrado que\n",
        "1. $u_{i,j}^{n+1} =  au_{i,j}^{n}-u_{i,j}^{n-1}+r_x\\left (u_{i+1,j}^{n}+u_{i-1,j}^{n}\\right )+r_y\\left (  u_{i,j+1}^{n}+u_{i,j-1}^{n}\\right ) $\n",
        "2. $u_{i,j}^{1} = \\frac{a}{2}u_{i,j}^{0}+ V_{i,j}^{0} \\Delta t +\\frac{r_x}{2}\\left (u_{i+1,j}^{0}+u_{i-1,j}^{0}\\right )+\\frac{r_y}{2}\\left (  u_{i,j+1}^{0}+u_{i,j-1}^{0}\\right ).\\text{ } \\square$\n",
        "\n",
        "\n",
        "\n",
        "\n",
        "\n"
      ]
    },
    {
      "cell_type": "markdown",
      "metadata": {
        "id": "6z4rQxNoQ8F4"
      },
      "source": [
        "b) (No se califica) ¿Qué cambia en la ecuación en el caso en que la onda se encuentre en dos medios diferentes?\n",
        "\n",
        "Su texto aqui\n",
        "\n",
        ".\n",
        "\n",
        ".\n",
        "\n",
        ".\n",
        "\n",
        "."
      ]
    },
    {
      "cell_type": "markdown",
      "metadata": {
        "id": "MELZuUDHuP71"
      },
      "source": [
        "## Problema 2 (3/5) Puntos\n",
        "\n",
        "Solucionar la ecuación de onda bidimensional con extremos fijos en cero la cual se encuentra entre dos medios cuyas velocidades de propagación son $c_1$ y $c_2$ para la posición inicial $p(x,y)$,\n",
        "\n",
        "$$p(x,y) = \\frac{1}{\\sqrt{\\sigma}}e^{\\left(-{\\frac{(x-0.25)^2+(y-0.5)^2}{\\sigma^2}}\\right)} + \\frac{1}{\\sqrt{\\sigma}}e^{\\left(-{\\frac{(x-0.75)^2+(y-0.5)^2}{\\sigma^2}}\\right)}$$\n",
        "\n",
        "con $\\sigma = 0.05$, en el dominio $x \\in [0, 1]$,  $y \\in [0, 1]$ y velocidad inicial de cada nodo igual a cero para $t=0$, la frontera entre los dos medios se encuentra en la posición $x = 0.5$. Use los valores de la tabla. Realice una animación 3D, para que la simulación no demore tanto realice la simulación con solo las imagenes de cada $50*dt$. Use el siguiente [notebook](https://github.com/diegour1/MetodosComputacionales2/blob/main/Notebooks/11%20-%20ecuacion_onda_1D.ipynb) como guía.\n",
        "\n",
        "**Tabla:**\n",
        "\n",
        "|  |                                        |\n",
        "|-----------------------|----------------------------------------|\n",
        "| $$c_1$$                 |                                $$1.5$$ |\n",
        "| $$c_2$$                 |                                $$2.5$$ |\n",
        "| $$dx$$                |                               $$0.05$$ |\n",
        "| $$dy$$                |                               $$0.05$$ |\n",
        "| $$t_{total}$$           |                                  $$0.5$$ |\n",
        "| $$dt$$                | $$\\frac{1}{10c_2}\\frac{dx^2dy^2}{dx^2+dy^2}$$ |"
      ]
    },
    {
      "cell_type": "markdown",
      "metadata": {
        "id": "R3kXKLjxP4ks"
      },
      "source": [
        "En la calificación el notebook se correra en Google Colab, de cualquier forma adjunte la animación en un video de youtube público, debe obtener un video como el que se muestra,\n",
        "\n",
        "Cambie este link por su video de youtube,\n",
        "\n",
        "Espacio para el video de youtube\n",
        "\n",
        "https://www.youtube.com/watch?v=heeGCgfhheY"
      ]
    },
    {
      "cell_type": "code",
      "execution_count": null,
      "metadata": {
        "colab": {
          "base_uri": "https://localhost:8080/"
        },
        "id": "AsF4aCkdP3x9",
        "outputId": "814bd755-fc8a-4d5f-be21-da1c88cbbb13"
      },
      "outputs": [
        {
          "ename": "ZeroDivisionError",
          "evalue": "division by zero",
          "output_type": "error",
          "traceback": [
            "\u001b[1;31m---------------------------------------------------------------------------\u001b[0m",
            "\u001b[1;31mZeroDivisionError\u001b[0m                         Traceback (most recent call last)",
            "\u001b[1;32mc:\\Users\\Alekey Ruiz\\Documents\\Alejo\\Cosas U\\8vo semestre\\Métodos Computacionales 2\\Taller4 Metodos 2\\CharriaMariaJoseRuizAlejandro_Taller4 .ipynb Cell 9\u001b[0m line \u001b[0;36m4\n\u001b[0;32m     <a href='vscode-notebook-cell:/c%3A/Users/Alekey%20Ruiz/Documents/Alejo/Cosas%20U/8vo%20semestre/M%C3%A9todos%20Computacionales%202/Taller4%20Metodos%202/CharriaMariaJoseRuizAlejandro_Taller4%20.ipynb#X11sZmlsZQ%3D%3D?line=41'>42</a>\u001b[0m   \u001b[39mreturn\u001b[39;00m x, U, y\n\u001b[0;32m     <a href='vscode-notebook-cell:/c%3A/Users/Alekey%20Ruiz/Documents/Alejo/Cosas%20U/8vo%20semestre/M%C3%A9todos%20Computacionales%202/Taller4%20Metodos%202/CharriaMariaJoseRuizAlejandro_Taller4%20.ipynb#X11sZmlsZQ%3D%3D?line=43'>44</a>\u001b[0m start_time \u001b[39m=\u001b[39m time\u001b[39m.\u001b[39mtime()\n\u001b[1;32m---> <a href='vscode-notebook-cell:/c%3A/Users/Alekey%20Ruiz/Documents/Alejo/Cosas%20U/8vo%20semestre/M%C3%A9todos%20Computacionales%202/Taller4%20Metodos%202/CharriaMariaJoseRuizAlejandro_Taller4%20.ipynb#X11sZmlsZQ%3D%3D?line=44'>45</a>\u001b[0m x1, U1, y1 \u001b[39m=\u001b[39m solucion_ecuacion_onda_2D(dx,t_max,L\u001b[39m/\u001b[39;49m\u001b[39m2\u001b[39;49m,c1,l0,lL, dy)\n\u001b[0;32m     <a href='vscode-notebook-cell:/c%3A/Users/Alekey%20Ruiz/Documents/Alejo/Cosas%20U/8vo%20semestre/M%C3%A9todos%20Computacionales%202/Taller4%20Metodos%202/CharriaMariaJoseRuizAlejandro_Taller4%20.ipynb#X11sZmlsZQ%3D%3D?line=45'>46</a>\u001b[0m x2, U1, y2 \u001b[39m=\u001b[39m solucion_ecuacion_onda_2D(dx,t_max,L\u001b[39m/\u001b[39m\u001b[39m2\u001b[39m,c2,l0,lL, dy)\n\u001b[0;32m     <a href='vscode-notebook-cell:/c%3A/Users/Alekey%20Ruiz/Documents/Alejo/Cosas%20U/8vo%20semestre/M%C3%A9todos%20Computacionales%202/Taller4%20Metodos%202/CharriaMariaJoseRuizAlejandro_Taller4%20.ipynb#X11sZmlsZQ%3D%3D?line=46'>47</a>\u001b[0m \u001b[39mprint\u001b[39m(\u001b[39m\"\u001b[39m\u001b[39mTiempo usado en calcular la solución(s):\u001b[39m\u001b[39m\"\u001b[39m,time\u001b[39m.\u001b[39mtime() \u001b[39m-\u001b[39m start_time)\n",
            "\u001b[1;32mc:\\Users\\Alekey Ruiz\\Documents\\Alejo\\Cosas U\\8vo semestre\\Métodos Computacionales 2\\Taller4 Metodos 2\\CharriaMariaJoseRuizAlejandro_Taller4 .ipynb Cell 9\u001b[0m line \u001b[0;36m2\n\u001b[0;32m     <a href='vscode-notebook-cell:/c%3A/Users/Alekey%20Ruiz/Documents/Alejo/Cosas%20U/8vo%20semestre/M%C3%A9todos%20Computacionales%202/Taller4%20Metodos%202/CharriaMariaJoseRuizAlejandro_Taller4%20.ipynb#X11sZmlsZQ%3D%3D?line=18'>19</a>\u001b[0m \u001b[39mdef\u001b[39;00m \u001b[39msolucion_ecuacion_onda_2D\u001b[39m(dx,dy,t_max,L,c,l0,lL):\n\u001b[1;32m---> <a href='vscode-notebook-cell:/c%3A/Users/Alekey%20Ruiz/Documents/Alejo/Cosas%20U/8vo%20semestre/M%C3%A9todos%20Computacionales%202/Taller4%20Metodos%202/CharriaMariaJoseRuizAlejandro_Taller4%20.ipynb#X11sZmlsZQ%3D%3D?line=19'>20</a>\u001b[0m   dt \u001b[39m=\u001b[39m (\u001b[39m1\u001b[39;49m\u001b[39m/\u001b[39;49m(\u001b[39m10\u001b[39;49m\u001b[39m*\u001b[39;49mc)) ((dx\u001b[39m*\u001b[39m\u001b[39m*\u001b[39m\u001b[39m2\u001b[39m)\u001b[39m*\u001b[39m(dy\u001b[39m*\u001b[39m\u001b[39m*\u001b[39m\u001b[39m2\u001b[39m))\u001b[39m/\u001b[39m(dx\u001b[39m*\u001b[39m\u001b[39m*\u001b[39m\u001b[39m2\u001b[39m\u001b[39m+\u001b[39mdy\u001b[39m*\u001b[39m\u001b[39m*\u001b[39m\u001b[39m2\u001b[39m)\n\u001b[0;32m     <a href='vscode-notebook-cell:/c%3A/Users/Alekey%20Ruiz/Documents/Alejo/Cosas%20U/8vo%20semestre/M%C3%A9todos%20Computacionales%202/Taller4%20Metodos%202/CharriaMariaJoseRuizAlejandro_Taller4%20.ipynb#X11sZmlsZQ%3D%3D?line=20'>21</a>\u001b[0m   rx \u001b[39m=\u001b[39m (c\u001b[39m*\u001b[39mdt\u001b[39m/\u001b[39mdx)\u001b[39m*\u001b[39m\u001b[39m*\u001b[39m\u001b[39m2\u001b[39m\n\u001b[0;32m     <a href='vscode-notebook-cell:/c%3A/Users/Alekey%20Ruiz/Documents/Alejo/Cosas%20U/8vo%20semestre/M%C3%A9todos%20Computacionales%202/Taller4%20Metodos%202/CharriaMariaJoseRuizAlejandro_Taller4%20.ipynb#X11sZmlsZQ%3D%3D?line=21'>22</a>\u001b[0m   ry \u001b[39m=\u001b[39m (c\u001b[39m*\u001b[39mdt\u001b[39m/\u001b[39mdy)\u001b[39m*\u001b[39m\u001b[39m*\u001b[39m\u001b[39m2\u001b[39m\n",
            "\u001b[1;31mZeroDivisionError\u001b[0m: division by zero"
          ]
        }
      ],
      "source": [
        "dx = 0.05\n",
        "dy = 0.05\n",
        "L = 1\n",
        "t_max = 0.5\n",
        "c1 = 1.5\n",
        "c2 = 2.5\n",
        "# condiciones de frontera\n",
        "l0 = 0\n",
        "lL = 0\n",
        "\n",
        "# condiciones iniciales\n",
        "def pos_ini(x,y):\n",
        "  sig = 0.05\n",
        "  return 1.0/np.sqrt(sig)*np.exp(-((x-0.25)**2 + (y-0.5)**2)/sig**2) + 1.0/np.sqrt(sig)*np.exp(-((x-0.75)**2 + (y-0.5)**2)/sig**2)\n",
        "\n",
        "def vel_ini(x,y):\n",
        "  return np.zeros([len(x),len(y)])\n",
        "\n",
        "\n",
        "def solucion_ecuacion_onda_2D(dx,dy,t_max,L,l0,lL,c1,c2):\n",
        "  dt = (1/(10*c2)) ((dx**2)*(dy**2))/(dx**2+dy**2)\n",
        "  x = np.linspace(0, L, num = 1+int(np.round((L)/dx)))\n",
        "  y = np.linspace(0, L, num = 1+int(np.round((L)/dy)))\n",
        "  rx1 = (c1*dt/dx)**2\n",
        "  ry1 = (c1*dt/dy)**2\n",
        "  a1 = 2*(1-rx1-ry1)\n",
        "  rx2 = (c2*dt/dx)**2\n",
        "  ry2 = (c2*dt/dy)**2\n",
        "  a2 = 2*(1-rx2-ry2)\n",
        "  lt = 1+int(np.round((t_max)/dt))\n",
        "  ltmedio = lt/2\n",
        "  lx = len(x)\n",
        "  ly = len(y)\n",
        "  lxmedio = lx/2\n",
        "  lymedio = ly/2\n",
        "  U = np.zeros([lt,lx,ly])\n",
        "  U[0,:,:] = pos_ini(x,y)\n",
        "\n",
        "  v0 = vel_ini(x,y)\n",
        "  U[:,0,0] = l0\n",
        "  U[:, -1,-1] = lL\n",
        "  #Primer medio\n",
        "  for i in range(1,lxmedio-1):\n",
        "    for j in range(1,lymedio-1):\n",
        "      U[1,i,j] = 0.5*a1*U[0,i,j] + 0.5*rx1*(U[0,i-1,j] + U[0,i+1,j])+0.5*ry1*(U[0,i,j-1] + U[0,i,j+1]) + dt*v0[i,j]\n",
        "\n",
        "  for n in range(1,ltmedio-1): # time\n",
        "    for i in range(1,lxmedio-1):\n",
        "      for j in range(1,lymedio-1):# space\n",
        "       U[n+1,i,j] = 0.5*a1*U[n,i,j] + 0.5*rx1*(U[n,i-1,j] + U[n,i+1,j])+0.5*ry1*(U[n,i,j-1] + U[n,i,j+1]) + U[n-1,i,j]\n",
        "  #Segundo medio\n",
        "  V = np.zeros([L/2,L/2])\n",
        "  for i in range(1,lxmedio-1):\n",
        "    for j in range(1,lymedio-1):\n",
        "      V[i,j] = (U[ltmedio,L/2,j] - U[ltmedio,L/2,j])/(2*dt)\n",
        "\n",
        "  for i in range(lxmedio,lx-1):\n",
        "    for j in range(lxmedio,ly-1):\n",
        "      U[ltmedio,i,j] = 0.5*a2*U[0,i,j] + 0.5*rx2*(U[0,i-1,j] + U[0,i+1,j])+0.5*ry2*(U[0,i,j-1] + U[0,i,j+1]) + dt*V[i,j]\n",
        "\n",
        "  for n in range(ltmedio,lt-1): # time\n",
        "    for i in range(lxmedio,lx-1):\n",
        "      for j in range(lymedio,ly-1):# space\n",
        "        U[n+1,i,j] = 0.5*a2*U[n,i,j] + 0.5*rx2*(U[n,i-1,j] + U[n,i+1,j])+0.5*ry2*(U[n,i,j-1] + U[n,i,j+1]) + U[n-1,i,j]\n",
        "  return x, U, y\n",
        "\n",
        "start_time = time.time()\n",
        "x, U, y = solucion_ecuacion_onda_2D(dx,dy,t_max,L,l0,lL)\n",
        "print(\"Tiempo usado en calcular la solución(s):\",time.time() - start_time)\n",
        "\n",
        "\n",
        "print('x.shape:',x.shape, ' U.shape:', U.shape, 'y.shape:',y.shape)\n",
        "\n",
        "\n",
        "def update(num_frame, U, line):\n",
        "  line.set_ydata(U[num_frame,:])  # update the data.\n",
        "  return line,\n",
        "\n",
        "def crear_animacion(x, U, name):\n",
        "  N = U.shape[0]\n",
        "  fig = plt.figure(figsize = (9,5), dpi=75)\n",
        "  ax = plt.gca()\n",
        "  ax.set_xlim([0,L])\n",
        "  ax.set_ylim([np.min(U)-1,np.max(U)+1])\n",
        "\n",
        "  line, = ax.plot(x,U[0],'r')\n",
        "  plt.tight_layout()\n",
        "  ani = animation.FuncAnimation(fig, update, N, fargs=(U,line))\n",
        "  return ani\n",
        "\n",
        "# Animación\n",
        "\n",
        "#def update_plot(frame, u, plot):\n",
        "#    ax.clear()\n",
        "#    plot[0] = ax.plot_surface(X, Y, u[:, :, frame].t_max, cmap='viridis', antialiased=False)\n",
        "#    ax.set_xlabel('X')\n",
        "#    ax.set_ylabel('Y')\n",
        "#    ax.set_zlabel('Amplitud')\n",
        "#    return plot\n",
        "\n",
        "#ani.FuncAnimation(fig, update_plot, frames=Nt, fargs=(u, plot), interval=50)\n",
        "\n",
        "  #ani.save(name,fps=30)\n",
        "  #plt.close(fig)\n",
        "\n",
        "start_time = time.time()\n",
        "crear_animacion(x, U, 'ecuacion_onda_2D.gif')\n",
        "#print(\"Tiempo usado en crear la animación (s):\",time.time()"
      ]
    },
    {
      "cell_type": "code",
      "execution_count": null,
      "metadata": {
        "id": "Xwsk4NO1-RRJ",
        "outputId": "d1ecb823-7675-4411-cd02-2f13180e4341"
      },
      "outputs": [
        {
          "ename": "FileNotFoundError",
          "evalue": "[Errno 2] No such file or directory: 'ecuacion_onda_1D.mp4'",
          "output_type": "error",
          "traceback": [
            "\u001b[1;31m---------------------------------------------------------------------------\u001b[0m",
            "\u001b[1;31mFileNotFoundError\u001b[0m                         Traceback (most recent call last)",
            "Cell \u001b[1;32mIn[8], line 2\u001b[0m\n\u001b[0;32m      1\u001b[0m name \u001b[39m=\u001b[39m \u001b[39m'\u001b[39m\u001b[39mecuacion_onda_1D.mp4\u001b[39m\u001b[39m'\u001b[39m\n\u001b[1;32m----> 2\u001b[0m mp4 \u001b[39m=\u001b[39m \u001b[39mopen\u001b[39;49m(name,\u001b[39m'\u001b[39;49m\u001b[39mrb\u001b[39;49m\u001b[39m'\u001b[39;49m)\u001b[39m.\u001b[39mread()\n\u001b[0;32m      3\u001b[0m data_url \u001b[39m=\u001b[39m \u001b[39m\"\u001b[39m\u001b[39mdata:video/mp4;base64,\u001b[39m\u001b[39m\"\u001b[39m \u001b[39m+\u001b[39m b64encode(mp4)\u001b[39m.\u001b[39mdecode()\n\u001b[0;32m      4\u001b[0m HTML(\u001b[39m\"\"\"\u001b[39m\n\u001b[0;32m      5\u001b[0m \u001b[39m<video width=675 controls>\u001b[39m\n\u001b[0;32m      6\u001b[0m \u001b[39m      <source src=\u001b[39m\u001b[39m\"\u001b[39m\u001b[39m%s\u001b[39;00m\u001b[39m\"\u001b[39m\u001b[39m type=\u001b[39m\u001b[39m\"\u001b[39m\u001b[39mvideo/mp4\u001b[39m\u001b[39m\"\u001b[39m\u001b[39m>\u001b[39m\n\u001b[0;32m      7\u001b[0m \u001b[39m</video>\u001b[39m\n\u001b[0;32m      8\u001b[0m \u001b[39m\"\"\"\u001b[39m \u001b[39m%\u001b[39m data_url)\n",
            "File \u001b[1;32m~\\AppData\\Local\\Packages\\PythonSoftwareFoundation.Python.3.11_qbz5n2kfra8p0\\LocalCache\\local-packages\\Python311\\site-packages\\IPython\\core\\interactiveshell.py:286\u001b[0m, in \u001b[0;36m_modified_open\u001b[1;34m(file, *args, **kwargs)\u001b[0m\n\u001b[0;32m    279\u001b[0m \u001b[39mif\u001b[39;00m file \u001b[39min\u001b[39;00m {\u001b[39m0\u001b[39m, \u001b[39m1\u001b[39m, \u001b[39m2\u001b[39m}:\n\u001b[0;32m    280\u001b[0m     \u001b[39mraise\u001b[39;00m \u001b[39mValueError\u001b[39;00m(\n\u001b[0;32m    281\u001b[0m         \u001b[39mf\u001b[39m\u001b[39m\"\u001b[39m\u001b[39mIPython won\u001b[39m\u001b[39m'\u001b[39m\u001b[39mt let you open fd=\u001b[39m\u001b[39m{\u001b[39;00mfile\u001b[39m}\u001b[39;00m\u001b[39m by default \u001b[39m\u001b[39m\"\u001b[39m\n\u001b[0;32m    282\u001b[0m         \u001b[39m\"\u001b[39m\u001b[39mas it is likely to crash IPython. If you know what you are doing, \u001b[39m\u001b[39m\"\u001b[39m\n\u001b[0;32m    283\u001b[0m         \u001b[39m\"\u001b[39m\u001b[39myou can use builtins\u001b[39m\u001b[39m'\u001b[39m\u001b[39m open.\u001b[39m\u001b[39m\"\u001b[39m\n\u001b[0;32m    284\u001b[0m     )\n\u001b[1;32m--> 286\u001b[0m \u001b[39mreturn\u001b[39;00m io_open(file, \u001b[39m*\u001b[39;49margs, \u001b[39m*\u001b[39;49m\u001b[39m*\u001b[39;49mkwargs)\n",
            "\u001b[1;31mFileNotFoundError\u001b[0m: [Errno 2] No such file or directory: 'ecuacion_onda_1D.mp4'"
          ]
        }
      ],
      "source": [
        "\n",
        "name = 'ecuacion_onda_1D.mp4'\n",
        "mp4 = open(name,'rb').read()\n",
        "data_url = \"data:video/mp4;base64,\" + b64encode(mp4).decode()\n",
        "HTML(\"\"\"\n",
        "<video width=675 controls>\n",
        "      <source src=\"%s\" type=\"video/mp4\">\n",
        "</video>\n",
        "\"\"\" % data_url)"
      ]
    },
    {
      "cell_type": "code",
      "execution_count": null,
      "metadata": {
        "colab": {
          "background_save": true,
          "base_uri": "https://localhost:8080/"
        },
        "id": "Ag-Hg8Xps2Iv",
        "outputId": "64988c6e-b215-42e3-8dc1-260761ecc478"
      },
      "outputs": [
        {
          "name": "stdout",
          "output_type": "stream",
          "text": [
            "Tiempo usado en crear la animación (s): 52.25568652153015\n"
          ]
        }
      ],
      "source": [
        "print(\"Tiempo usado en crear la animación (s):\", time.time() - start_time)"
      ]
    }
  ],
  "metadata": {
    "colab": {
      "provenance": [],
      "include_colab_link": true
    },
    "kernelspec": {
      "display_name": "Python 3",
      "name": "python3"
    },
    "language_info": {
      "codemirror_mode": {
        "name": "ipython",
        "version": 3
      },
      "file_extension": ".py",
      "mimetype": "text/x-python",
      "name": "python",
      "nbconvert_exporter": "python",
      "pygments_lexer": "ipython3",
      "version": "3.11.4"
    }
  },
  "nbformat": 4,
  "nbformat_minor": 0
}